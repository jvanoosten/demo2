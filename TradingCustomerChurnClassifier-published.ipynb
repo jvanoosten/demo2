{
    "cells": [
        {
            "metadata": {
                "collapsed": true
            },
            "cell_type": "markdown",
            "source": "# Trading Platform Customer Attrition Risk Prediction using sklearn\n\nThere are many users of online trading platforms and these companies would like to run analytics on and predict churn based on user activity on the platform. Since competition is rife, keeping customers happy so they do not move their investments elsewhere is key to maintaining profitability.\n\nIn this notebook, we will leverage Watson Studio Local (that is a service on IBM Cloud Pak for Data) to do the following:\n\n1. Ingest merged customer demographics and trading activity data\n2. Visualize merged dataset and get better understanding of data to build hypotheses for prediction\n3. Leverage sklearn library to build classification model that predicts whether customer has propensity to churn\n4. Expose the classification model as RESTful API endpoint for the end-to-end customer churn risk prediction and risk remediation application\n\n<img src=\"https://github.com/burtvialpando/CloudPakWorkshop/blob/master/CPD/images/NotebookImage.png?raw=true\" width=\"800\" height=\"500\" align=\"middle\"/>\n\n\n<a id=\"top\"></a>\n## Table of Contents\n\n1. [Load libraries](#load_libraries)\n2. [Load and visualize merged customer demographics and trading activity data](#load_data)\n3. [Prepare data for building classification model](#prepare_data)\n4. [Train classification model and test model performance](#build_model)\n5. [Save model to ML repository and expose it as REST API endpoint](#save_model)\n6. [Summary](#summary)"
        },
        {
            "metadata": {},
            "cell_type": "markdown",
            "source": "### Quick set of instructions to work through the notebook\n\nIf you are new to Notebooks, here's a quick overview of how to work in this environment.\n\n1. The notebook has 2 types of cells - markdown (text) such as this and code such as the one below. \n2. Each cell with code can be executed independently or together (see options under the Cell menu). When working in this notebook, we will be running one cell at a time because we need to make code changes to some of the cells.\n3. To run the cell, position cursor in the code cell and click the Run (arrow) icon. The cell is running when you see the * next to it. Some cells have printable output.\n4. Work through this notebook by reading the instructions and executing code cell by cell. Some cells will require modifications before you run them. "
        },
        {
            "metadata": {},
            "cell_type": "markdown",
            "source": "<a id=\"load_libraries\"></a>\n## 1. Load libraries\n[Top](#top)\n\nRunning the following cell will load all libraries needed to load, visualize, prepare the data and build ML models for our use case"
        },
        {
            "metadata": {
                "scrolled": true
            },
            "cell_type": "code",
            "source": "#Uncomment and run once to install the package in your runtime environment\n#!pip uninstall -y sklearn-pandas\n!pip install  --no-cache-dir sklearn-pandas==1.7.0",
            "execution_count": null,
            "outputs": []
        },
        {
            "metadata": {},
            "cell_type": "code",
            "source": "# If the following cell doesn't work, please un-comment out the next line and do upgrade the patplotlib package. When the upgrade is done, restart the kernal and start from the beginning again. \n!pip install --user --upgrade matplotlib==3.2.2",
            "execution_count": null,
            "outputs": []
        },
        {
            "metadata": {},
            "cell_type": "code",
            "source": "!pip install brunel==2.3",
            "execution_count": null,
            "outputs": []
        },
        {
            "metadata": {},
            "cell_type": "code",
            "source": "import brunel\nimport pandas as pd\nimport numpy as np\nimport sklearn.pipeline\nfrom sklearn.model_selection import train_test_split\nfrom sklearn.preprocessing import MinMaxScaler, LabelEncoder, StandardScaler, LabelBinarizer, OneHotEncoder\nfrom sklearn.ensemble import RandomForestClassifier\nfrom sklearn.metrics import f1_score, accuracy_score, roc_curve, roc_auc_score\nfrom sklearn_pandas import DataFrameMapper\nfrom sklearn.model_selection import GridSearchCV\nfrom sklearn.metrics import make_scorer\nimport json\nimport matplotlib.pyplot as plt\n%matplotlib inline",
            "execution_count": null,
            "outputs": []
        },
        {
            "metadata": {},
            "cell_type": "code",
            "source": "#Changed sk-learn version to be compatible with WML client4 on CPD v3.0.1\n!pip uninstall -y scikit-learn\n!pip install --no-cache-dir scikit-learn==0.22",
            "execution_count": null,
            "outputs": []
        },
        {
            "metadata": {},
            "cell_type": "markdown",
            "source": "# <a id=\"load_data\"></a>\n## 2. Load data example\n[Top](#top)\n\nData can be easily loaded within ICPD using point-and-click functionality. The following image illustrates how to load a merged dataset assuming it is called \"customer_demochurn_activity_analyze.csv\". The file can be located by its name and inserted into the notebook as a **pandas** dataframe as shown below:\n\n<img src=\"https://github.com/burtvialpando/CloudPakWorkshop/blob/master/CPD/images/InsertPandasDataFrame.png?raw=true\" width=\"300\" height=\"300\" align=\"middle\"/>\n\nThe interface comes up with a generic name, so it is good practice to rename the dataframe to match context of the use case. In this case, we will use df_churn."
        },
        {
            "metadata": {},
            "cell_type": "code",
            "source": "# Use the `Find and add data` menu item in the top right corner to insert code for a pandas Dataframe \n\n# <INSERT CODE HERE>\n\n\n# comment out or rename the default df_data_1 dataframe name with the df_churn_pd name used in this notebook\n\ndf_churn_pd = pd.read_csv(body)\ndf_churn_pd.head()",
            "execution_count": null,
            "outputs": []
        },
        {
            "metadata": {},
            "cell_type": "markdown",
            "source": "Data Visualization is key step in data mining process that helps better understand data before it can be prepared for building ML models\n\nWe use Brunel library that comes preloaded within Watson Studio local environment to visualize the merged customer data. \n\nThe Brunel Visualization Language is a highly succinct and novel language that defines interactive data visualizations based on tabular data. The language is well suited for both data scientists and business users. More information about Brunel Visualization: https://github.com/Brunel-Visualization/Brunel/wiki\n\nTry Brunel visualization here: http://brunel.mybluemix.net/gallery_app/renderer"
        },
        {
            "metadata": {},
            "cell_type": "code",
            "source": "df_churn_pd.dtypes",
            "execution_count": null,
            "outputs": []
        },
        {
            "metadata": {},
            "cell_type": "code",
            "source": "df_churn_pd.describe()",
            "execution_count": null,
            "outputs": []
        },
        {
            "metadata": {},
            "cell_type": "code",
            "source": "%brunel data('df_churn_pd') stack polar bar x(CHURNRISK) y(#count) color(CHURNRISK) bar tooltip(#all)",
            "execution_count": null,
            "outputs": []
        },
        {
            "metadata": {},
            "cell_type": "code",
            "source": "%brunel data('df_churn_pd') bar x(STATUS) y(#count) color(STATUS) tooltip(#all) | stack bar x(STATUS) y(#count) color(CHURNRISK: pink-orange-yellow) bin(STATUS) sort(STATUS) percent(#count) label(#count) tooltip(#all) :: width=1200, height=350 ",
            "execution_count": null,
            "outputs": []
        },
        {
            "metadata": {},
            "cell_type": "code",
            "source": "%brunel data('df_churn_pd') bar x(TOTALUNITSTRADED) y(#count) color(CHURNRISK: pink-gray-orange) sort(STATUS) percent(#count) label(#count) tooltip(#all) :: width=1200, height=350 ",
            "execution_count": null,
            "outputs": []
        },
        {
            "metadata": {},
            "cell_type": "code",
            "source": "%brunel data('df_churn_pd') bar x(DAYSSINCELASTTRADE) y(#count) color(CHURNRISK: pink-gray-orange) sort(STATUS) percent(#count) label(#count) tooltip(#all) :: width=1200, height=350 ",
            "execution_count": null,
            "outputs": []
        },
        {
            "metadata": {},
            "cell_type": "markdown",
            "source": "<a id=\"prepare_data\"></a>\n## 3. Data preparation\n[Top](#top)\n\nData preparation is a very important step in machine learning model building. This is because the model can perform well only when the data it is trained on is good and well prepared. Hence, this step consumes bulk of data scientist's time spent building models.\n\nDuring this process, we identify categorical columns in the dataset. Categories needed to be indexed, which means the string labels are converted to label indices. These label indices and encoded using One-hot encoding to a binary vector with at most a single one-value indicating the presence of a specific feature value from among the set of all feature values. This encoding allows algorithms which expect continuous features to use categorical features.\n\nFinal step in the data preparation process is to assemble all the categorical and non-categorical columns into a feature vector. We use VectorAssembler for this. VectorAssembler is a transformer that combines a given list of columns into a single vector column. It is useful for combining raw features and features generated by different feature transformers into a single feature vector, in order to train ML models."
        },
        {
            "metadata": {},
            "cell_type": "markdown",
            "source": "#### Use the DataFrameMapper class to declare transformations and variable imputations.\n\n* LabelBinarizer - Converts a categorical variable into a dummy variable (aka binary variable)\n* StandardScaler - Standardize features by removing the mean and scaling to unit variance, z = (x - u) / s\n\nSee docs: \n* https://github.com/scikit-learn-contrib/sklearn-pandas\n* https://scikit-learn.org/stable/modules/generated/sklearn.preprocessing.StandardScaler.html#sklearn.preprocessing.StandardScaler\n* https://scikit-learn.org/stable/modules/generated/sklearn.preprocessing.LabelBinarizer.html#sklearn.preprocessing.LabelBinarizer\n* https://scikit-learn.org/stable/modules/generated/sklearn.pipeline.Pipeline.html"
        },
        {
            "metadata": {},
            "cell_type": "code",
            "source": "# Defining the categorical columns \ncategoricalColumns = ['GENDER', 'STATUS', 'HOMEOWNER', 'AGE_GROUP']\nnumericColumns = ['CHILDREN', 'ESTINCOME', 'TOTALDOLLARVALUETRADED', 'TOTALUNITSTRADED', 'LARGESTSINGLETRANSACTION', 'SMALLESTSINGLETRANSACTION', \n                          'PERCENTCHANGECALCULATION', 'DAYSSINCELASTLOGIN', 'DAYSSINCELASTTRADE', 'NETREALIZEDGAINS_YTD', 'NETREALIZEDLOSSES_YTD']",
            "execution_count": null,
            "outputs": []
        },
        {
            "metadata": {},
            "cell_type": "code",
            "source": "mapper = DataFrameMapper([\n    (['GENDER'], LabelBinarizer()),\n    (['STATUS'], LabelBinarizer()),\n    (['HOMEOWNER'], LabelBinarizer()),\n    (['AGE_GROUP'], LabelBinarizer()),\n    (['CHILDREN'],  StandardScaler()),\n    (['ESTINCOME'],  StandardScaler()),\n    (['TOTALDOLLARVALUETRADED'],  StandardScaler()),\n    (['TOTALUNITSTRADED'],  StandardScaler()),\n    (['LARGESTSINGLETRANSACTION'],  StandardScaler()),\n    (['SMALLESTSINGLETRANSACTION'],  StandardScaler()),\n    (['PERCENTCHANGECALCULATION'],  StandardScaler()),\n    (['DAYSSINCELASTLOGIN'],  StandardScaler()),\n    (['DAYSSINCELASTTRADE'],  StandardScaler()),\n    (['NETREALIZEDGAINS_YTD'],  StandardScaler()),\n    (['NETREALIZEDLOSSES_YTD'],  StandardScaler())], default=False)",
            "execution_count": null,
            "outputs": []
        },
        {
            "metadata": {},
            "cell_type": "code",
            "source": "df_churn_pd.columns",
            "execution_count": null,
            "outputs": []
        },
        {
            "metadata": {},
            "cell_type": "code",
            "source": "# Define input data to the model\nX = df_churn_pd.drop(['ID','CHURNRISK','AGE','TAXID','CREDITCARD','DOB','ADDRESS_1', 'ADDRESS_2', 'CITY', 'STATE', 'ZIP', 'ZIP4', 'LONGITUDE',\n       'LATITUDE'], axis=1)",
            "execution_count": null,
            "outputs": []
        },
        {
            "metadata": {
                "scrolled": true
            },
            "cell_type": "code",
            "source": "X.shape",
            "execution_count": null,
            "outputs": []
        },
        {
            "metadata": {},
            "cell_type": "code",
            "source": "# Define the target variable and encode with value between 0 and n_classes-1\nle = LabelEncoder()\ny = le.fit_transform(df_churn_pd['CHURNRISK'])",
            "execution_count": null,
            "outputs": []
        },
        {
            "metadata": {},
            "cell_type": "code",
            "source": "# split the data to training and testing set\nX_train, X_test, y_train, y_test = train_test_split(X, y, test_size=0.3, random_state=5)",
            "execution_count": null,
            "outputs": []
        },
        {
            "metadata": {},
            "cell_type": "markdown",
            "source": "<a id=\"build_model\"></a>\n## 4. Build Random Forest classification model\n[Top](#top)"
        },
        {
            "metadata": {},
            "cell_type": "markdown",
            "source": "We instantiate a decision-tree based classification algorithm, namely, RandomForestClassifier. Next we define a pipeline to chain together the various transformers and estimaters defined during the data preparation step before. Sklearn standardizes APIs for machine learning algorithms to make it easier to combine multiple algorithms into a single pipeline, or workflow.\n\nWe split original dataset into train and test datasets. We fit the pipeline to training data and apply the trained model to transform test data and generate churn risk class prediction"
        },
        {
            "metadata": {},
            "cell_type": "code",
            "source": "import warnings\nwarnings.filterwarnings(\"ignore\")",
            "execution_count": null,
            "outputs": []
        },
        {
            "metadata": {},
            "cell_type": "code",
            "source": "# Instantiate the Classifier\nrandom_forest = RandomForestClassifier(random_state=5)\n\n# Define the steps in the pipeline to sequentially apply a list of transforms and the estimator, i.e. RandomForestClassifier\nsteps = [('mapper', mapper),('RandonForestClassifier', random_forest)]\npipeline = sklearn.pipeline.Pipeline(steps)\n\n# train the model\nmodel=pipeline.fit( X_train, y_train )\n\nmodel",
            "execution_count": null,
            "outputs": []
        },
        {
            "metadata": {},
            "cell_type": "code",
            "source": "### call pipeline.predict() on your X_test data to make a set of test predictions\ny_prediction = model.predict( X_test )\n",
            "execution_count": null,
            "outputs": []
        },
        {
            "metadata": {},
            "cell_type": "code",
            "source": "# show first 10 rows of predictions\ny_prediction[0:10,]",
            "execution_count": null,
            "outputs": []
        },
        {
            "metadata": {},
            "cell_type": "code",
            "source": "# show first 10 rows of predictions with the corresponding labels\nle.inverse_transform(y_prediction)[0:10]",
            "execution_count": null,
            "outputs": []
        },
        {
            "metadata": {},
            "cell_type": "markdown",
            "source": "### Model results\n\nIn a supervised classification problem such as churn risk classification, we have a true output and a model-generated predicted output for each data point. For this reason, the results for each data point can be assigned to one of four categories:\n\n1. True Positive (TP) - label is positive and prediction is also positive\n2. True Negative (TN) - label is negative and prediction is also negative\n3. False Positive (FP) - label is negative but prediction is positive\n4. False Negative (FN) - label is positive but prediction is negative\n\nThese four numbers are the building blocks for most classifier evaluation metrics. A fundamental point when considering classifier evaluation is that pure accuracy (i.e. was the prediction correct or incorrect) is not generally a good metric. The reason for this is because a dataset may be highly unbalanced. For example, if a model is designed to predict fraud from a dataset where 95% of the data points are not fraud and 5% of the data points are fraud, then a naive classifier that predicts not fraud, regardless of input, will be 95% accurate. For this reason, metrics like precision and recall are typically used because they take into account the type of error. In most applications there is some desired balance between precision and recall, which can be captured by combining the two into a single metric, called the F-measure."
        },
        {
            "metadata": {},
            "cell_type": "code",
            "source": "# display label mapping to assist with interpretation of the model results\nlabel_mapping=le.inverse_transform([0,1,2])\nprint('0: ', label_mapping[0])\nprint('1: ', label_mapping[1])\nprint('2: ', label_mapping[2])",
            "execution_count": null,
            "outputs": []
        },
        {
            "metadata": {},
            "cell_type": "code",
            "source": "### test your predictions using sklearn.classification_report()\nreport = sklearn.metrics.classification_report( y_test, y_prediction )\n\n### and print the report\nprint(report)",
            "execution_count": null,
            "outputs": []
        },
        {
            "metadata": {},
            "cell_type": "code",
            "source": "print('Accuracy:   ',sklearn.metrics.accuracy_score( y_test, y_prediction ))",
            "execution_count": null,
            "outputs": []
        },
        {
            "metadata": {},
            "cell_type": "markdown",
            "source": "#### Get the column names of the transformed features"
        },
        {
            "metadata": {},
            "cell_type": "code",
            "source": "m_step=pipeline.named_steps['mapper']",
            "execution_count": null,
            "outputs": []
        },
        {
            "metadata": {},
            "cell_type": "code",
            "source": "m_step.transformed_names_",
            "execution_count": null,
            "outputs": []
        },
        {
            "metadata": {},
            "cell_type": "code",
            "source": "features = m_step.transformed_names_",
            "execution_count": null,
            "outputs": []
        },
        {
            "metadata": {},
            "cell_type": "code",
            "source": "# Get the features importance\nimportances = pipeline.named_steps['RandonForestClassifier'][1].feature_importances_\nindices = np.argsort(importances)",
            "execution_count": null,
            "outputs": []
        },
        {
            "metadata": {},
            "cell_type": "code",
            "source": "plt.figure(1)\nplt.title('Feature Importances')\nplt.barh(range(len(indices)), importances[indices], color='b',align='center')\nplt.yticks(range(len(indices)), (np.array(features))[indices])\nplt.xlabel('Relative Importance')",
            "execution_count": null,
            "outputs": []
        },
        {
            "metadata": {},
            "cell_type": "markdown",
            "source": "<a id=\"save_model\"></a>\n## 5. Save the model into WML Deployment Space\n[Top](#top)"
        },
        {
            "metadata": {},
            "cell_type": "markdown",
            "source": "Before we save the model we must create a deployment space. Watson Machine Learning provides deployment spaces where the user can save, configure and deploy their models. We can save models, functions and data assets in this space.\n\nThe steps involved for saving and deploying the model are as follows:\n\n1. Lookup the pre-created deployment space. \n2. Set this deployment space as the default space.\n3. Store the model pipeline in the deployment space. Enter the name for the model in the cell below. \n4. Deploy the saved model. Enter the deployment name in the cell below. \n5. Retrieve the scoring endpoint to score the model with a payload\n\nWe use the ibm_watson_machine_learning library to complete these steps. "
        },
        {
            "metadata": {},
            "cell_type": "code",
            "source": "#!pip install ibm-watson-machine-learning==1.0.14\n#!pip uninstall -y ibm-watson-machine-learning\n#!pip install --no-cache-dir ibm-watson-machine-learning==1.0.14",
            "execution_count": null,
            "outputs": []
        },
        {
            "metadata": {},
            "cell_type": "code",
            "source": "# Specify a names for the space being created, the saved model and the model deployment\nspace_name = 'churnrisk_deployment_space'\n\nmodel_name = 'churnrisk_model_nb'\n\ndeployment_name = 'churnrisk_model_deployment'",
            "execution_count": null,
            "outputs": []
        },
        {
            "metadata": {},
            "cell_type": "code",
            "source": "from ibm_watson_machine_learning import APIClient\n\n# create the WML credentials with the apikey\nwml_credentials = {\n                   \"url\": \"https://us-south.ml.cloud.ibm.com\",\n                   \"apikey\":\"INSERT YOUR APIKEY HERE\"\n                  }\n\nclient = APIClient(wml_credentials)",
            "execution_count": null,
            "outputs": []
        },
        {
            "metadata": {},
            "cell_type": "markdown",
            "source": "### 5.1 Lookup Deployment Space"
        },
        {
            "metadata": {},
            "cell_type": "code",
            "source": "for space in client.spaces.get_details()['resources']:\n    if space_name in space['entity']['name']:\n        space_id = space['metadata']['id']\n        print(space_id)\n        client.set.default_space(space_id)",
            "execution_count": null,
            "outputs": []
        },
        {
            "metadata": {},
            "cell_type": "markdown",
            "source": "### 5.2 Store the model in the deployment space"
        },
        {
            "metadata": {},
            "cell_type": "code",
            "source": "# list all supported software specs\nclient.software_specifications.list()",
            "execution_count": null,
            "outputs": []
        },
        {
            "metadata": {},
            "cell_type": "code",
            "source": "# run this line if you do not know the version of scikit-learn that was used to build the model\n!pip show scikit-learn",
            "execution_count": null,
            "outputs": []
        },
        {
            "metadata": {},
            "cell_type": "code",
            "source": "software_spec_uid = client.software_specifications.get_uid_by_name('scikit-learn_0.22-py3.6')\n#software_spec_uid = client.software_specifications.get_uid_by_name('scikit-learn_0.20-py3.6')",
            "execution_count": null,
            "outputs": []
        },
        {
            "metadata": {},
            "cell_type": "code",
            "source": "metadata = {\n    client.repository.ModelMetaNames.NAME: model_name,\n    client.repository.ModelMetaNames.SOFTWARE_SPEC_UID: software_spec_uid,\n    client.repository.ModelMetaNames.TYPE: \"scikit-learn_0.22\"\n}\n\nstored_model_details = client.repository.store_model(pipeline,\n                                               meta_props=metadata,\n                                               training_data=X_train,\n                                               training_target=y_train)",
            "execution_count": null,
            "outputs": []
        },
        {
            "metadata": {},
            "cell_type": "code",
            "source": "stored_model_details",
            "execution_count": null,
            "outputs": []
        },
        {
            "metadata": {},
            "cell_type": "markdown",
            "source": "### 5.3 Create a deployment for the stored model"
        },
        {
            "metadata": {},
            "cell_type": "code",
            "source": "# deploy the model\nmeta_props = {\n    client.deployments.ConfigurationMetaNames.NAME: deployment_name,\n    client.deployments.ConfigurationMetaNames.ONLINE: {}\n}\n\n# deploy the model\n\nmodel_uid = stored_model_details[\"metadata\"][\"id\"]\ndeployment_details = client.deployments.create( artifact_uid=model_uid, meta_props=meta_props)",
            "execution_count": null,
            "outputs": []
        },
        {
            "metadata": {},
            "cell_type": "markdown",
            "source": "### 5.4 Score the model"
        },
        {
            "metadata": {},
            "cell_type": "code",
            "source": "# retrieve the scoring endpoint\nscoring_endpoint = client.deployments.get_scoring_href(deployment_details)\n\nprint('Scoring Endpoint:   ',scoring_endpoint)",
            "execution_count": null,
            "outputs": []
        },
        {
            "metadata": {},
            "cell_type": "code",
            "source": "scoring_deployment_id = client.deployments.get_uid(deployment_details)\nclient.deployments.get_details(scoring_deployment_id)",
            "execution_count": null,
            "outputs": []
        },
        {
            "metadata": {},
            "cell_type": "code",
            "source": "payload = [{\"values\": [ ['Young adult','M','S', 2,56000, 'N', 5030, 23, 2257, 125, 3.45, 2, 19, 1200, 251]]}]",
            "execution_count": null,
            "outputs": []
        },
        {
            "metadata": {},
            "cell_type": "code",
            "source": "payload_metadata = {client.deployments.ScoringMetaNames.INPUT_DATA: payload}\n# score\npredictions = client.deployments.score(scoring_deployment_id, payload_metadata)\npredictions",
            "execution_count": null,
            "outputs": []
        },
        {
            "metadata": {
                "scrolled": true
            },
            "cell_type": "code",
            "source": "# display label mapping to assist with interpretation of the model results\nlabel_mapping=le.inverse_transform([0,1,2])\nprint('0: ', label_mapping[0])\nprint('1: ', label_mapping[1])\nprint('2: ', label_mapping[2])",
            "execution_count": null,
            "outputs": []
        },
        {
            "metadata": {},
            "cell_type": "markdown",
            "source": "### Useful Helper Functions "
        },
        {
            "metadata": {},
            "cell_type": "markdown",
            "source": "#### Create download links for the test data .csv files for batch scoring and model evaluations"
        },
        {
            "metadata": {},
            "cell_type": "code",
            "source": "# Define functions to download as CSV or Excel\nfrom IPython.display import HTML\nimport pandas as pd\nimport base64, io\n\n# Download as CSV: data frame, optional title and filename\ndef create_download_link_csv(df, title = \"Download CSV file\", filename = \"data.csv\"):  \n    # generate in-memory CSV, then base64-encode it\n    csv = df.to_csv(index=False)\n    b64 = base64.b64encode(csv.encode())\n    payload = b64.decode()\n    html = '<a download=\"{filename}\" href=\"data:text/csv;base64,{payload}\" target=\"_blank\">{title}</a>'\n    html = html.format(payload=payload,title=title,filename=filename)\n    return HTML(html)",
            "execution_count": null,
            "outputs": []
        },
        {
            "metadata": {},
            "cell_type": "code",
            "source": "# Write the test data a .csv so that we can later use it for batch scoring\ncreate_download_link_csv(X_test,\"Download my data\",\"churn_risk_model_batch_score.csv\")",
            "execution_count": null,
            "outputs": []
        },
        {
            "metadata": {},
            "cell_type": "code",
            "source": "# Write the test data to a .csv so that we can later use it for evaluation\ncreate_download_link_csv(X_test,\"Download my data\",\"model_eval.csv\")",
            "execution_count": null,
            "outputs": []
        },
        {
            "metadata": {},
            "cell_type": "markdown",
            "source": "#### Save and restore the model using the joblib package"
        },
        {
            "metadata": {},
            "cell_type": "code",
            "source": "# Save the pipeline with joblib\n!pip install joblib\nimport joblib\nfilename = 'churnrisk_model.sav'\njoblib.dump(pipeline, filename)\n! ls -lrt",
            "execution_count": null,
            "outputs": []
        },
        {
            "metadata": {},
            "cell_type": "code",
            "source": "# Use joblib to restore the model and score it with the test data\nfilename = 'churnrisk_model.sav'\nloaded_model = joblib.load(filename)\nresult = loaded_model.score(X_test, y_test)\nprint(result)",
            "execution_count": null,
            "outputs": []
        },
        {
            "metadata": {},
            "cell_type": "markdown",
            "source": "#### Save and restore the model using the pickle package"
        },
        {
            "metadata": {},
            "cell_type": "code",
            "source": "# Save the pipeline with pickle\nimport pickle\nfilename = 'churnrisk_model.pkl'\npickle.dump(model, open(filename, 'wb'))\n!ls -lrt",
            "execution_count": null,
            "outputs": []
        },
        {
            "metadata": {},
            "cell_type": "code",
            "source": "# Use pickle to restore the model and score it with the test data\nfilename = 'churnrisk_model.pkl'\nloaded_model = pickle.load(open(filename, 'rb'))\nresult = loaded_model.score(X_test, y_test)\nprint(result)",
            "execution_count": null,
            "outputs": []
        },
        {
            "metadata": {},
            "cell_type": "markdown",
            "source": "#### Use the project_lib package to save the model to the project data assets where it can be downloaded"
        },
        {
            "metadata": {},
            "cell_type": "code",
            "source": "from project_lib import Project\n# project id from project url \n# the id can be taken from the project url shown in the browser, \n# For example, the project id is 28f40464-f07e-43c4-94a0-f6100744bd3d in this notebook URL\n# https://dataplatform.cloud.ibm.com/analytics/notebooks/v2/3fed0ab0-2abe-4ff1-8aee-26481557e7c3?projectid=28f40464-f07e-43c4-94a0-f6100744bd3d&context=cpdaas\nproject_id = 'YOUR PROJECT ID'\n# Get the value of access token created earlier in the Project Settings \naccess_token = 'YOUR ACCESS TOKEN'\nproject = Project(None, project_id, access_token)",
            "execution_count": null,
            "outputs": []
        },
        {
            "metadata": {},
            "cell_type": "code",
            "source": "# prin project details of interest \npc = project.project_context\nprint('Project Name: {0}'.format(project.get_name()))\nprint('Project Description: {0}'.format(project.get_description()))\nprint('Project Bucket Name: {0}'.format(project.get_project_bucket_name()))\nprint('Project Assets (Connections): {0}'.format(project.get_assets(asset_type='connection')))",
            "execution_count": null,
            "outputs": []
        },
        {
            "metadata": {},
            "cell_type": "code",
            "source": "# Save the models to object storage \nproject.save_data(data=pickle.dumps(pipeline),file_name='churn_risk.pkl',overwrite=True)",
            "execution_count": null,
            "outputs": []
        },
        {
            "metadata": {},
            "cell_type": "markdown",
            "source": "**Last updated:** 10/11/2020 - Original Notebook by Anjali Shah, updated in later versions by Sidney Phoon. Final edits by Burt Vialpando and Kent Rubin - IBM.  Updated for the Virtual TechU Oct 2020 by Jim Van Oosten."
        },
        {
            "metadata": {},
            "cell_type": "code",
            "source": "",
            "execution_count": null,
            "outputs": []
        }
    ],
    "metadata": {
        "kernelspec": {
            "name": "python3",
            "display_name": "Python 3.7",
            "language": "python"
        },
        "language_info": {
            "name": "python",
            "version": "3.7.9",
            "mimetype": "text/x-python",
            "codemirror_mode": {
                "name": "ipython",
                "version": 3
            },
            "pygments_lexer": "ipython3",
            "nbconvert_exporter": "python",
            "file_extension": ".py"
        }
    },
    "nbformat": 4,
    "nbformat_minor": 1
}